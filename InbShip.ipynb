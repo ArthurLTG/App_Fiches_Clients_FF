{
  "nbformat": 4,
  "nbformat_minor": 0,
  "metadata": {
    "colab": {
      "provenance": [],
      "authorship_tag": "ABX9TyN3B4VrJFkvErFBrgrfjvDl",
      "include_colab_link": true
    },
    "kernelspec": {
      "name": "python3",
      "display_name": "Python 3"
    },
    "language_info": {
      "name": "python"
    }
  },
  "cells": [
    {
      "cell_type": "markdown",
      "metadata": {
        "id": "view-in-github",
        "colab_type": "text"
      },
      "source": [
        "<a href=\"https://colab.research.google.com/github/ArthurLTG/App_Fiches_Clients_FF/blob/main/InbShip.ipynb\" target=\"_parent\"><img src=\"https://colab.research.google.com/assets/colab-badge.svg\" alt=\"Open In Colab\"/></a>"
      ]
    },
    {
      "cell_type": "code",
      "source": [
        "import requests\n",
        "import json\n",
        "import pandas as pd \n",
        "%load_ext google.colab.data_table"
      ],
      "metadata": {
        "id": "eD-UaIBhkRmO"
      },
      "execution_count": null,
      "outputs": []
    },
    {
      "cell_type": "code",
      "source": [
        "#--------------------------------------------------------------------------------------------------\n",
        "# Fonction : Equivalente à GAUCHE\n",
        "def left(s, amount):\n",
        "    return s[:amount]\n",
        "\n",
        "# Fonction : Equivalente à DROITE\n",
        "def right(s, amount):\n",
        "    return s[-amount:]\n",
        "\n",
        "# Fonction : Equivalente à SUBSTRING\n",
        "def mid(s, offset, amount):\n",
        "    return s[offset:offset+amount]\n",
        "    "
      ],
      "metadata": {
        "id": "x9HCQ9vP3OTd"
      },
      "execution_count": null,
      "outputs": []
    },
    {
      "cell_type": "code",
      "source": [
        "# Construction de URL de l API\n",
        "# <method>\n",
        "method = \"GetInboundShipment\"\n",
        "\n",
        "#URL\n",
        "url='https://api.bigblue.co/bigblue.storeapi.v1.PublicAPI/'+method\n",
        "\n",
        "print(method);\n",
        "\n",
        "token=''\n",
        "secretToken = 'Bearer ASi-Ci06yUpC4f7mzfbtHBe-j6t3V4VhwtTFr64HsFc'\n",
        "#Required\n",
        "authk={'Authorization':secretToken}\n",
        "data={'id': \"FROFINEU00281\"}\n",
        "\n",
        "#Initialisation de variables\n",
        "outputIS =[]\n",
        "\n",
        "\n",
        "##Response\n",
        "r=requests.post(url, headers=authk, json=data)\n",
        "\n",
        "\n",
        "status = r.json()[\"inbound_shipment\"][\"status\"][\"line_progresses\"]\n",
        "\n",
        "\n",
        "for p in status:\n",
        "  if (p['expected_count'] != p['offloaded_count']):\n",
        "    delta = p['offloaded_count'] - p['expected_count']\n",
        "    r = [p[\"product\"],p['expected_count'],p['offloaded_count'],delta]\n",
        "    outputIS.append(r)\n",
        "\n",
        "\n",
        "df = pd.DataFrame(outputIS, columns =[\"SKU BB\", \"expected\", \"offloaded\", \"delta\"])\n",
        "df"
      ],
      "metadata": {
        "id": "WfIubl3VcfWF"
      },
      "execution_count": null,
      "outputs": []
    },
    {
      "cell_type": "code",
      "source": [
        "from google.colab import auth\n",
        "auth.authenticate_user()\n",
        "\n",
        "import gspread\n",
        "from oauth2client.client import GoogleCredentials\n",
        "\n",
        "\n",
        "gc = gspread.authorize(GoogleCredentials.get_application_default())"
      ],
      "metadata": {
        "id": "t_A-OB2uxdLJ"
      },
      "execution_count": null,
      "outputs": []
    },
    {
      "cell_type": "code",
      "source": [
        "ws = gc.open('MERCH AUTO - Support')\n",
        "\n",
        "sh = ws.worksheet(\"Test\")"
      ],
      "metadata": {
        "id": "b7QYrqckxovq"
      },
      "execution_count": null,
      "outputs": []
    },
    {
      "cell_type": "code",
      "source": [
        "\n",
        "\n",
        "sh.update([df.columns.values.tolist()] + df.values.tolist())"
      ],
      "metadata": {
        "id": "GiRKUo1NxHB6",
        "colab": {
          "base_uri": "https://localhost:8080/"
        },
        "outputId": "0db6ff8c-efa0-4fcd-8e11-df2aaa3567f3"
      },
      "execution_count": null,
      "outputs": [
        {
          "output_type": "execute_result",
          "data": {
            "text/plain": [
              "{'spreadsheetId': '1pZgTOpxKWDKLJyPSFkIomeIB5w_b90qZ_13uONIVcic',\n",
              " 'updatedCells': 60,\n",
              " 'updatedColumns': 4,\n",
              " 'updatedRange': 'Test!A1:D15',\n",
              " 'updatedRows': 15}"
            ]
          },
          "metadata": {},
          "execution_count": 27
        }
      ]
    }
  ]
}